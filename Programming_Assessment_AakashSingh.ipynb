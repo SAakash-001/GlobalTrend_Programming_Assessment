{
 "cells": [
  {
   "cell_type": "markdown",
   "metadata": {},
   "source": [
    "1. MaxHeap Class\n",
    "\n",
    "Implement a Python class MaxHeap that supports the following operations: insert, delete, and get_max. Ensure the operations maintain the properties of a max-heap."
   ]
  },
  {
   "cell_type": "code",
   "execution_count": 3,
   "metadata": {},
   "outputs": [
    {
     "name": "stdout",
     "output_type": "stream",
     "text": [
      "Max value: 20\n",
      "Deleted max value: 20\n",
      "Max value after deletion: 10\n"
     ]
    }
   ],
   "source": [
    "class MaxHeap:\n",
    "    def __init__(self):\n",
    "        self.heap = []\n",
    "\n",
    "    def insert(self, val):\n",
    "        self.heap.append(val)\n",
    "        self._heapify_up(len(self.heap) - 1)\n",
    "\n",
    "    def delete(self):\n",
    "        if len(self.heap) > 1:\n",
    "            self._swap(0, len(self.heap) - 1)\n",
    "            max_val = self.heap.pop()\n",
    "            self._heapify_down(0)\n",
    "        elif self.heap:\n",
    "            max_val = self.heap.pop()\n",
    "        else:\n",
    "            max_val = None\n",
    "        return max_val\n",
    "\n",
    "    def get_max(self):\n",
    "        if self.heap:\n",
    "            return self.heap[0]\n",
    "        return None\n",
    "\n",
    "    def _heapify_up(self, index):\n",
    "        parent = (index - 1) // 2\n",
    "        if index > 0 and self.heap[index] > self.heap[parent]:\n",
    "            self._swap(index, parent)\n",
    "            self._heapify_up(parent)\n",
    "\n",
    "    def _heapify_down(self, index):\n",
    "        left = 2 * index + 1\n",
    "        right = 2 * index + 2\n",
    "        largest = index\n",
    "        if left < len(self.heap) and self.heap[left] > self.heap[largest]:\n",
    "            largest = left\n",
    "        if right < len(self.heap) and self.heap[right] > self.heap[largest]:\n",
    "            largest = right\n",
    "        if largest != index:\n",
    "            self._swap(index, largest)\n",
    "            self._heapify_down(largest)\n",
    "\n",
    "    def _swap(self, i, j):\n",
    "        self.heap[i], self.heap[j] = self.heap[j], self.heap[i]\n",
    "\n",
    "# Example usage:\n",
    "max_heap = MaxHeap()\n",
    "max_heap.insert(10)\n",
    "max_heap.insert(20)\n",
    "max_heap.insert(5)\n",
    "print(\"Max value:\", max_heap.get_max())  # Should print 20\n",
    "print(\"Deleted max value:\", max_heap.delete())  # Should print 20\n",
    "print(\"Max value after deletion:\", max_heap.get_max())  # Should print 10\n"
   ]
  },
  {
   "cell_type": "markdown",
   "metadata": {},
   "source": [
    "2. URL Content Downloader\n",
    "\n",
    "Write a Python function that takes a list of URLs, attempts to download their content, and retries up to 3 times if an error occurs. Use appropriate error handling to manage different types of exceptions."
   ]
  },
  {
   "cell_type": "code",
   "execution_count": 4,
   "metadata": {},
   "outputs": [
    {
     "name": "stdout",
     "output_type": "stream",
     "text": [
      "Content for URL https://in.mathworks.com/help/simulink/slref/model-and-control-robot-dynamics-to-automate-virtual-assembly-line.html: b'<!DOCTYPE HTML>\\n<html lang=\"en\">\\n<head>\\n<title>Model and Control Robot Dynamics to Automate Virtual '\n",
      "Content for URL https://in.mathworks.com/help/robotics/ug/plan-path-for-manipulator-in-simulink-with-robotics-system-toolbox.html: b'<!DOCTYPE HTML>\\n<html lang=\"en\">\\n<head>\\n<title>Plan Path for Manipulator in Simulink with Robotics S'\n"
     ]
    }
   ],
   "source": [
    "import requests\n",
    "from time import sleep\n",
    "\n",
    "def download_url_content(urls):\n",
    "    results = []\n",
    "    for url in urls:\n",
    "        for attempt in range(3):\n",
    "            try:\n",
    "                response = requests.get(url)\n",
    "                response.raise_for_status()\n",
    "                results.append(response.content)\n",
    "                break\n",
    "            except requests.RequestException as e:\n",
    "                print(f\"Attempt {attempt+1} for {url} failed: {e}\")\n",
    "                sleep(1)\n",
    "        else:\n",
    "            results.append(None)\n",
    "    return results\n",
    "\n",
    "# Example usage:\n",
    "urls = [\"https://in.mathworks.com/help/simulink/slref/model-and-control-robot-dynamics-to-automate-virtual-assembly-line.html\", \"https://in.mathworks.com/help/robotics/ug/plan-path-for-manipulator-in-simulink-with-robotics-system-toolbox.html\"]\n",
    "contents = download_url_content(urls)\n",
    "for i, content in enumerate(contents):\n",
    "    print(f\"Content for URL {urls[i]}: {content[:100]}\")  # Print the first 100 characters\n"
   ]
  },
  {
   "cell_type": "markdown",
   "metadata": {},
   "source": [
    "3. Simple Linear Regression\n",
    "\n",
    "Write a Python script that trains a simple linear regression model using scikit-learn. Use a dataset of your choice, split it into training and testing sets, and evaluate the model's performance."
   ]
  },
  {
   "cell_type": "code",
   "execution_count": 5,
   "metadata": {},
   "outputs": [
    {
     "name": "stdout",
     "output_type": "stream",
     "text": [
      "Mean Squared Error: 0.09123749853179322\n"
     ]
    }
   ],
   "source": [
    "from sklearn.model_selection import train_test_split\n",
    "from sklearn.linear_model import LinearRegression\n",
    "from sklearn.metrics import mean_squared_error\n",
    "import numpy as np\n",
    "import pandas as pd\n",
    "\n",
    "# Example dataset\n",
    "data = {\n",
    "    'x': np.random.rand(100),\n",
    "    'y': np.random.rand(100)\n",
    "}\n",
    "df = pd.DataFrame(data)\n",
    "\n",
    "X = df[['x']]\n",
    "y = df['y']\n",
    "\n",
    "X_train, X_test, y_train, y_test = train_test_split(X, y, test_size=0.2, random_state=42)\n",
    "\n",
    "model = LinearRegression()\n",
    "model.fit(X_train, y_train)\n",
    "\n",
    "y_pred = model.predict(X_test)\n",
    "mse = mean_squared_error(y_test, y_pred)\n",
    "\n",
    "print(f\"Mean Squared Error: {mse}\")\n"
   ]
  },
  {
   "cell_type": "markdown",
   "metadata": {},
   "source": [
    "4. DataFrame Preprocessing\n",
    "\n",
    "Using pandas, write a Python function to clean and preprocess a given DataFrame, which involves handling missing values, normalizing numerical columns, and encoding categorical columns."
   ]
  },
  {
   "cell_type": "code",
   "execution_count": 6,
   "metadata": {},
   "outputs": [
    {
     "name": "stdout",
     "output_type": "stream",
     "text": [
      "          A         C    B_b\n",
      "0 -1.414214 -1.414214  False\n",
      "1  0.000000  0.000000   True\n",
      "2  1.414214  1.414214  False\n",
      "3  0.000000  0.000000   True\n"
     ]
    }
   ],
   "source": [
    "import pandas as pd\n",
    "from sklearn.preprocessing import StandardScaler, OneHotEncoder\n",
    "\n",
    "def preprocess_dataframe(df):\n",
    "    # Handling missing values\n",
    "    df = df.fillna(df.mean(numeric_only=True)).fillna('Unknown')\n",
    "    \n",
    "    # Normalizing numerical columns\n",
    "    numerical_cols = df.select_dtypes(include=['float64', 'int64']).columns\n",
    "    scaler = StandardScaler()\n",
    "    df[numerical_cols] = scaler.fit_transform(df[numerical_cols])\n",
    "    \n",
    "    # Encoding categorical columns\n",
    "    categorical_cols = df.select_dtypes(include=['object']).columns\n",
    "    df = pd.get_dummies(df, columns=categorical_cols, drop_first=True)\n",
    "    \n",
    "    return df\n",
    "\n",
    "# Example usage:\n",
    "data = {\n",
    "    'A': [1, 2, 3, None],\n",
    "    'B': ['a', 'b', 'a', 'b'],\n",
    "    'C': [1.5, None, 3.5, 2.5]\n",
    "}\n",
    "df = pd.DataFrame(data)\n",
    "processed_df = preprocess_dataframe(df)\n",
    "print(processed_df)\n"
   ]
  },
  {
   "cell_type": "markdown",
   "metadata": {},
   "source": [
    "5. Fibonacci Number\n",
    "\n",
    "Write a Python function to compute the nth Fibonacci number using recursion."
   ]
  },
  {
   "cell_type": "code",
   "execution_count": 7,
   "metadata": {},
   "outputs": [
    {
     "name": "stdout",
     "output_type": "stream",
     "text": [
      "The 10th Fibonacci number is 55\n"
     ]
    }
   ],
   "source": [
    "def fibonacci(n):\n",
    "    if n <= 0:\n",
    "        return 0\n",
    "    elif n == 1:\n",
    "        return 1\n",
    "    else:\n",
    "        return fibonacci(n - 1) + fibonacci(n - 2)\n",
    "\n",
    "# Example usage:\n",
    "n = 10\n",
    "print(f\"The {n}th Fibonacci number is {fibonacci(n)}\")  # Should print 55\n"
   ]
  },
  {
   "cell_type": "markdown",
   "metadata": {},
   "source": [
    "6. Division with Error Handling\n",
    "\n",
    "Write a Python function that divides two numbers and handles the case where the divisor is zero by returning a custom error message."
   ]
  },
  {
   "cell_type": "code",
   "execution_count": 8,
   "metadata": {},
   "outputs": [
    {
     "name": "stdout",
     "output_type": "stream",
     "text": [
      "5.0\n",
      "Error: Division by zero is not allowed.\n"
     ]
    }
   ],
   "source": [
    "def safe_divide(a, b):\n",
    "    try:\n",
    "        return a / b\n",
    "    except ZeroDivisionError:\n",
    "        return \"Error: Division by zero is not allowed.\"\n",
    "\n",
    "# Example usage:\n",
    "result = safe_divide(10, 2)\n",
    "print(result)  # Should print 5.0\n",
    "\n",
    "result = safe_divide(10, 0)\n",
    "print(result)  # Should print error message\n"
   ]
  },
  {
   "cell_type": "markdown",
   "metadata": {},
   "source": [
    "7. Execution Time Decorator\n",
    "\n",
    "Write a Python decorator that measures the execution time of a function and logs it. Apply this decorator to a function that performs a computationally expensive task."
   ]
  },
  {
   "cell_type": "code",
   "execution_count": 9,
   "metadata": {},
   "outputs": [
    {
     "name": "stdout",
     "output_type": "stream",
     "text": [
      "Execution time: 0.0 seconds\n",
      "333283335000\n"
     ]
    }
   ],
   "source": [
    "import time\n",
    "\n",
    "def execution_time_decorator(func):\n",
    "    def wrapper(*args, **kwargs):\n",
    "        start_time = time.time()\n",
    "        result = func(*args, **kwargs)\n",
    "        end_time = time.time()\n",
    "        print(f\"Execution time: {end_time - start_time} seconds\")\n",
    "        return result\n",
    "    return wrapper\n",
    "\n",
    "@execution_time_decorator\n",
    "def expensive_task(n):\n",
    "    result = 0\n",
    "    for i in range(n):\n",
    "        result += i ** 2\n",
    "    return result\n",
    "\n",
    "# Example usage:\n",
    "result = expensive_task(10000)\n",
    "print(result)\n"
   ]
  },
  {
   "cell_type": "markdown",
   "metadata": {},
   "source": [
    "8. Arithmetic Operation\n",
    "\n",
    "Write a Python function that takes two numbers and an operator (as a string) and performs the corresponding arithmetic operation (addition, subtraction, multiplication, or division)."
   ]
  },
  {
   "cell_type": "code",
   "execution_count": 10,
   "metadata": {},
   "outputs": [
    {
     "name": "stdout",
     "output_type": "stream",
     "text": [
      "15\n",
      "5\n",
      "50\n",
      "2.0\n"
     ]
    }
   ],
   "source": [
    "def arithmetic_operation(a, b, operator):\n",
    "    if operator == '+':\n",
    "        return a + b\n",
    "    elif operator == '-':\n",
    "        return a - b\n",
    "    elif operator == '*':\n",
    "        return a * b\n",
    "    elif operator == '/':\n",
    "        return a / b if b != 0 else \"Error: Division by zero is not allowed.\"\n",
    "    else:\n",
    "        return \"Error: Invalid operator.\"\n",
    "\n",
    "# Example usage:\n",
    "print(arithmetic_operation(10, 5, '+'))  # Should print 15\n",
    "print(arithmetic_operation(10, 5, '-'))  # Should print 5\n",
    "print(arithmetic_operation(10, 5, '*'))  # Should print 50\n",
    "print(arithmetic_operation(10, 5, '/'))  # Should print 2.0\n"
   ]
  },
  {
   "cell_type": "markdown",
   "metadata": {},
   "source": [
    "9. Random Password Generator\n",
    "\n",
    "Write a Python function that generates a random password. The password should contain a mix of uppercase letters, lowercase letters, digits, and special characters."
   ]
  },
  {
   "cell_type": "code",
   "execution_count": 11,
   "metadata": {},
   "outputs": [
    {
     "name": "stdout",
     "output_type": "stream",
     "text": [
      "Fh^-uT9|!8Ev\n"
     ]
    }
   ],
   "source": [
    "import random\n",
    "import string\n",
    "\n",
    "def generate_password(length=8):\n",
    "    all_chars = string.ascii_letters + string.digits + string.punctuation\n",
    "    password = ''.join(random.choice(all_chars) for _ in range(length))\n",
    "    return password\n",
    "\n",
    "# Example usage:\n",
    "print(generate_password(12))  # Should print a random 12-character password\n"
   ]
  },
  {
   "cell_type": "markdown",
   "metadata": {},
   "source": [
    "10. Matrix Transpose\n",
    "\n",
    "Write a Python function that takes a 2D list (matrix) and returns its transpose."
   ]
  },
  {
   "cell_type": "code",
   "execution_count": 12,
   "metadata": {},
   "outputs": [
    {
     "name": "stdout",
     "output_type": "stream",
     "text": [
      "[[1, 4, 7], [2, 5, 8], [3, 6, 9]]\n"
     ]
    }
   ],
   "source": [
    "def transpose_matrix(matrix):\n",
    "    return [list(row) for row in zip(*matrix)]\n",
    "\n",
    "# Example usage:\n",
    "matrix = [\n",
    "    [1, 2, 3],\n",
    "    [4, 5, 6],\n",
    "    [7, 8, 9]\n",
    "]\n",
    "transposed = transpose_matrix(matrix)\n",
    "print(transposed)\n"
   ]
  }
 ],
 "metadata": {
  "kernelspec": {
   "display_name": "Python 3",
   "language": "python",
   "name": "python3"
  },
  "language_info": {
   "codemirror_mode": {
    "name": "ipython",
    "version": 3
   },
   "file_extension": ".py",
   "mimetype": "text/x-python",
   "name": "python",
   "nbconvert_exporter": "python",
   "pygments_lexer": "ipython3",
   "version": "3.11.5"
  }
 },
 "nbformat": 4,
 "nbformat_minor": 2
}
